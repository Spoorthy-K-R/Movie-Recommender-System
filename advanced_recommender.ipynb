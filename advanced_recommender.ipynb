{
 "cells": [
  {
   "cell_type": "code",
   "execution_count": 1,
   "id": "e24131de",
   "metadata": {},
   "outputs": [],
   "source": [
    "import pandas as pd\n",
    "import seaborn as sns\n",
    "import numpy as np\n",
    "import matplotlib.pyplot as plt\n",
    "%matplotlib inline"
   ]
  },
  {
   "cell_type": "code",
   "execution_count": 17,
   "id": "30acff87",
   "metadata": {},
   "outputs": [
    {
     "data": {
      "text/html": [
       "<div>\n",
       "<style scoped>\n",
       "    .dataframe tbody tr th:only-of-type {\n",
       "        vertical-align: middle;\n",
       "    }\n",
       "\n",
       "    .dataframe tbody tr th {\n",
       "        vertical-align: top;\n",
       "    }\n",
       "\n",
       "    .dataframe thead th {\n",
       "        text-align: right;\n",
       "    }\n",
       "</style>\n",
       "<table border=\"1\" class=\"dataframe\">\n",
       "  <thead>\n",
       "    <tr style=\"text-align: right;\">\n",
       "      <th></th>\n",
       "      <th>userId</th>\n",
       "      <th>movieId</th>\n",
       "      <th>rating</th>\n",
       "      <th>timestamp</th>\n",
       "    </tr>\n",
       "  </thead>\n",
       "  <tbody>\n",
       "    <tr>\n",
       "      <th>0</th>\n",
       "      <td>1</td>\n",
       "      <td>31</td>\n",
       "      <td>2.5</td>\n",
       "      <td>1260759144</td>\n",
       "    </tr>\n",
       "    <tr>\n",
       "      <th>1</th>\n",
       "      <td>1</td>\n",
       "      <td>1029</td>\n",
       "      <td>3.0</td>\n",
       "      <td>1260759179</td>\n",
       "    </tr>\n",
       "    <tr>\n",
       "      <th>2</th>\n",
       "      <td>1</td>\n",
       "      <td>1061</td>\n",
       "      <td>3.0</td>\n",
       "      <td>1260759182</td>\n",
       "    </tr>\n",
       "  </tbody>\n",
       "</table>\n",
       "</div>"
      ],
      "text/plain": [
       "   userId  movieId  rating   timestamp\n",
       "0       1       31     2.5  1260759144\n",
       "1       1     1029     3.0  1260759179\n",
       "2       1     1061     3.0  1260759182"
      ]
     },
     "execution_count": 17,
     "metadata": {},
     "output_type": "execute_result"
    }
   ],
   "source": [
    "rating = pd.read_csv('ratings_small.csv')\n",
    "movie_names = pd.read_csv('movies_metadata.csv')\n",
    "rating.head(3)"
   ]
  },
  {
   "cell_type": "code",
   "execution_count": 18,
   "id": "3cab63ef",
   "metadata": {},
   "outputs": [],
   "source": [
    "movie_names = movie_names[['id','title']]"
   ]
  },
  {
   "cell_type": "code",
   "execution_count": 19,
   "id": "9b3dc883",
   "metadata": {},
   "outputs": [],
   "source": [
    "movie_names = movie_names.rename({'id':'movieId'},axis=1)"
   ]
  },
  {
   "cell_type": "code",
   "execution_count": 20,
   "id": "3027b224",
   "metadata": {},
   "outputs": [],
   "source": [
    "movie_names['movieId'] = pd.to_numeric(movie_names['movieId'])"
   ]
  },
  {
   "cell_type": "code",
   "execution_count": 21,
   "id": "5ad467ec",
   "metadata": {},
   "outputs": [
    {
     "name": "stdout",
     "output_type": "stream",
     "text": [
      "<class 'pandas.core.frame.DataFrame'>\n",
      "RangeIndex: 45466 entries, 0 to 45465\n",
      "Data columns (total 2 columns):\n",
      " #   Column   Non-Null Count  Dtype  \n",
      "---  ------   --------------  -----  \n",
      " 0   movieId  45463 non-null  float64\n",
      " 1   title    45460 non-null  object \n",
      "dtypes: float64(1), object(1)\n",
      "memory usage: 532.9+ KB\n"
     ]
    }
   ],
   "source": [
    "movie_names.info()"
   ]
  },
  {
   "cell_type": "code",
   "execution_count": 22,
   "id": "3c3be4ff",
   "metadata": {},
   "outputs": [
    {
     "data": {
      "text/html": [
       "<div>\n",
       "<style scoped>\n",
       "    .dataframe tbody tr th:only-of-type {\n",
       "        vertical-align: middle;\n",
       "    }\n",
       "\n",
       "    .dataframe tbody tr th {\n",
       "        vertical-align: top;\n",
       "    }\n",
       "\n",
       "    .dataframe thead th {\n",
       "        text-align: right;\n",
       "    }\n",
       "</style>\n",
       "<table border=\"1\" class=\"dataframe\">\n",
       "  <thead>\n",
       "    <tr style=\"text-align: right;\">\n",
       "      <th></th>\n",
       "      <th>userId</th>\n",
       "      <th>movieId</th>\n",
       "      <th>rating</th>\n",
       "      <th>timestamp</th>\n",
       "      <th>title</th>\n",
       "    </tr>\n",
       "  </thead>\n",
       "  <tbody>\n",
       "    <tr>\n",
       "      <th>0</th>\n",
       "      <td>1</td>\n",
       "      <td>1371</td>\n",
       "      <td>2.5</td>\n",
       "      <td>1260759135</td>\n",
       "      <td>Rocky III</td>\n",
       "    </tr>\n",
       "    <tr>\n",
       "      <th>1</th>\n",
       "      <td>4</td>\n",
       "      <td>1371</td>\n",
       "      <td>4.0</td>\n",
       "      <td>949810302</td>\n",
       "      <td>Rocky III</td>\n",
       "    </tr>\n",
       "    <tr>\n",
       "      <th>2</th>\n",
       "      <td>7</td>\n",
       "      <td>1371</td>\n",
       "      <td>3.0</td>\n",
       "      <td>851869160</td>\n",
       "      <td>Rocky III</td>\n",
       "    </tr>\n",
       "    <tr>\n",
       "      <th>3</th>\n",
       "      <td>19</td>\n",
       "      <td>1371</td>\n",
       "      <td>4.0</td>\n",
       "      <td>855193404</td>\n",
       "      <td>Rocky III</td>\n",
       "    </tr>\n",
       "    <tr>\n",
       "      <th>4</th>\n",
       "      <td>21</td>\n",
       "      <td>1371</td>\n",
       "      <td>3.0</td>\n",
       "      <td>853852263</td>\n",
       "      <td>Rocky III</td>\n",
       "    </tr>\n",
       "  </tbody>\n",
       "</table>\n",
       "</div>"
      ],
      "text/plain": [
       "   userId  movieId  rating   timestamp      title\n",
       "0       1     1371     2.5  1260759135  Rocky III\n",
       "1       4     1371     4.0   949810302  Rocky III\n",
       "2       7     1371     3.0   851869160  Rocky III\n",
       "3      19     1371     4.0   855193404  Rocky III\n",
       "4      21     1371     3.0   853852263  Rocky III"
      ]
     },
     "execution_count": 22,
     "metadata": {},
     "output_type": "execute_result"
    }
   ],
   "source": [
    "movie_rat = pd.merge(rating,movie_names,on='movieId')\n",
    "movie_rat.head()"
   ]
  },
  {
   "cell_type": "code",
   "execution_count": 23,
   "id": "a039bf79",
   "metadata": {},
   "outputs": [],
   "source": [
    "movie_rat = movie_rat[['userId','movieId','rating','title']]"
   ]
  },
  {
   "cell_type": "code",
   "execution_count": 24,
   "id": "bfa36427",
   "metadata": {},
   "outputs": [
    {
     "data": {
      "text/html": [
       "<div>\n",
       "<style scoped>\n",
       "    .dataframe tbody tr th:only-of-type {\n",
       "        vertical-align: middle;\n",
       "    }\n",
       "\n",
       "    .dataframe tbody tr th {\n",
       "        vertical-align: top;\n",
       "    }\n",
       "\n",
       "    .dataframe thead th {\n",
       "        text-align: right;\n",
       "    }\n",
       "</style>\n",
       "<table border=\"1\" class=\"dataframe\">\n",
       "  <thead>\n",
       "    <tr style=\"text-align: right;\">\n",
       "      <th></th>\n",
       "      <th>userId</th>\n",
       "      <th>movieId</th>\n",
       "      <th>rating</th>\n",
       "      <th>title</th>\n",
       "    </tr>\n",
       "  </thead>\n",
       "  <tbody>\n",
       "    <tr>\n",
       "      <th>0</th>\n",
       "      <td>1</td>\n",
       "      <td>1371</td>\n",
       "      <td>2.5</td>\n",
       "      <td>Rocky III</td>\n",
       "    </tr>\n",
       "    <tr>\n",
       "      <th>1</th>\n",
       "      <td>4</td>\n",
       "      <td>1371</td>\n",
       "      <td>4.0</td>\n",
       "      <td>Rocky III</td>\n",
       "    </tr>\n",
       "    <tr>\n",
       "      <th>2</th>\n",
       "      <td>7</td>\n",
       "      <td>1371</td>\n",
       "      <td>3.0</td>\n",
       "      <td>Rocky III</td>\n",
       "    </tr>\n",
       "    <tr>\n",
       "      <th>3</th>\n",
       "      <td>19</td>\n",
       "      <td>1371</td>\n",
       "      <td>4.0</td>\n",
       "      <td>Rocky III</td>\n",
       "    </tr>\n",
       "    <tr>\n",
       "      <th>4</th>\n",
       "      <td>21</td>\n",
       "      <td>1371</td>\n",
       "      <td>3.0</td>\n",
       "      <td>Rocky III</td>\n",
       "    </tr>\n",
       "  </tbody>\n",
       "</table>\n",
       "</div>"
      ],
      "text/plain": [
       "   userId  movieId  rating      title\n",
       "0       1     1371     2.5  Rocky III\n",
       "1       4     1371     4.0  Rocky III\n",
       "2       7     1371     3.0  Rocky III\n",
       "3      19     1371     4.0  Rocky III\n",
       "4      21     1371     3.0  Rocky III"
      ]
     },
     "execution_count": 24,
     "metadata": {},
     "output_type": "execute_result"
    }
   ],
   "source": [
    "movie_rat.head()"
   ]
  },
  {
   "cell_type": "code",
   "execution_count": 34,
   "id": "88ce05e4",
   "metadata": {},
   "outputs": [
    {
     "name": "stdout",
     "output_type": "stream",
     "text": [
      "2830 671\n"
     ]
    }
   ],
   "source": [
    "n_movies = movie_rat['movieId'].nunique()\n",
    "n_users = movie_rat['userId'].nunique()\n",
    "print(n_movies,n_users)"
   ]
  },
  {
   "cell_type": "code",
   "execution_count": 39,
   "id": "e8650a56",
   "metadata": {
    "scrolled": true
   },
   "outputs": [
    {
     "data": {
      "text/plain": [
       "(671, 2830)"
      ]
     },
     "execution_count": 39,
     "metadata": {},
     "output_type": "execute_result"
    }
   ],
   "source": [
    "train_movie_mat = np.zeros((n_users,n_movies))\n",
    "test_movie_mat = np.zeros((n_users,n_movies))\n",
    "user_movie_mat.shape"
   ]
  },
  {
   "cell_type": "code",
   "execution_count": 40,
   "id": "a9c3f986",
   "metadata": {},
   "outputs": [],
   "source": [
    "from sklearn.model_selection import train_test_split\n",
    "train_data,test_data = train_test_split(movie_rat,train_size=0.75)"
   ]
  },
  {
   "cell_type": "code",
   "execution_count": 45,
   "id": "d30c3d2e",
   "metadata": {},
   "outputs": [
    {
     "data": {
      "text/plain": [
       "array([[0. , 2.5, 0. , ..., 0. , 0. , 0. ],\n",
       "       [0. , 0. , 3. , ..., 0. , 0. , 0. ],\n",
       "       [0. , 0. , 0. , ..., 0. , 0. , 0. ],\n",
       "       ...,\n",
       "       [0. , 0. , 0. , ..., 0. , 0. , 0. ],\n",
       "       [0. , 0. , 0. , ..., 0. , 0. , 0. ],\n",
       "       [0. , 0. , 0. , ..., 0. , 0. , 0. ]])"
      ]
     },
     "execution_count": 45,
     "metadata": {},
     "output_type": "execute_result"
    }
   ],
   "source": [
    "for row in train_data.itertuples():\n",
    "    train_movie_mat[row[1]-1,row[2-1]] = row[3]\n",
    "    \n",
    "for row in test_data.itertuples():\n",
    "    test_movie_mat[row[1]-1,row[2-1]] = row[3]\n",
    "    \n",
    "train_movie_mat"
   ]
  },
  {
   "cell_type": "code",
   "execution_count": 44,
   "id": "b85ab186",
   "metadata": {},
   "outputs": [],
   "source": [
    "from sklearn.metrics.pairwise import pairwise_distances\n",
    "user_similarity = pairwise_distances(train_movie_mat,metric='cosine')\n",
    "item_similarity = pairwise_distances(train_movie_mat.T,metric='cosine')"
   ]
  },
  {
   "cell_type": "code",
   "execution_count": 55,
   "id": "8e9d6278",
   "metadata": {},
   "outputs": [],
   "source": [
    "def pred(ratings,similarity,typ='user'):\n",
    "    if typ=='user':\n",
    "        mean_rating = ratings.mean(axis=1)\n",
    "        rating_diff = ratings-mean_rating[:,np.newaxis]\n",
    "        prediction = mean_rating[:,np.newaxis] + similarity.dot(rating_diff) / np.array([np.abs(similarity).sum(axis=1)]).T\n",
    "        \n",
    "    elif typ=='item':\n",
    "        prediction = ratings.dot(similarity) / np.array([np.abs(similarity).sum(axis=1)])\n",
    "        \n",
    "    return prediction"
   ]
  },
  {
   "cell_type": "code",
   "execution_count": 65,
   "id": "3d7d25fb",
   "metadata": {},
   "outputs": [],
   "source": [
    "user_pred = pred(train_movie_mat,user_similarity,'user')\n",
    "item_pred = pred(train_movie_mat,item_similarity,'item')"
   ]
  },
  {
   "cell_type": "code",
   "execution_count": 82,
   "id": "d780b9d2",
   "metadata": {},
   "outputs": [],
   "source": [
    "from math import sqrt\n",
    "from sklearn.metrics import mean_squared_error\n",
    "\n",
    "def err(predict_rating,actual_rating):\n",
    "    pred_rat = predict_rating[actual_rating.nonzero()].flatten()\n",
    "    actual_rat = actual_rating[actual_rating.nonzero()].flatten()\n",
    "    error = sqrt(mean_squared_error(pred_rat,actual_rat))\n",
    "    return error"
   ]
  },
  {
   "cell_type": "code",
   "execution_count": 83,
   "id": "949a299f",
   "metadata": {},
   "outputs": [
    {
     "data": {
      "text/plain": [
       "(671, 2830)"
      ]
     },
     "execution_count": 83,
     "metadata": {},
     "output_type": "execute_result"
    }
   ],
   "source": [
    "user_pred.shape"
   ]
  },
  {
   "cell_type": "code",
   "execution_count": 84,
   "id": "8199de0c",
   "metadata": {},
   "outputs": [
    {
     "data": {
      "text/plain": [
       "(671, 2830)"
      ]
     },
     "execution_count": 84,
     "metadata": {},
     "output_type": "execute_result"
    }
   ],
   "source": [
    "test_movie_mat.shape"
   ]
  },
  {
   "cell_type": "code",
   "execution_count": 85,
   "id": "9bb7bbbb",
   "metadata": {},
   "outputs": [],
   "source": [
    "user_rat_err = err(user_pred,test_movie_mat)\n",
    "item_rat_err = err(item_pred,test_movie_mat)"
   ]
  },
  {
   "cell_type": "code",
   "execution_count": 88,
   "id": "6794331c",
   "metadata": {},
   "outputs": [
    {
     "name": "stdout",
     "output_type": "stream",
     "text": [
      "user based CF error: 3.816022636578966\n",
      "item based CF error: 3.8160473260390964\n"
     ]
    }
   ],
   "source": [
    "print('user based CF error: ' + str(user_rat_err))\n",
    "print('item based CF error: ' + str(item_rat_err))"
   ]
  },
  {
   "cell_type": "code",
   "execution_count": null,
   "id": "581d84e1",
   "metadata": {},
   "outputs": [],
   "source": []
  }
 ],
 "metadata": {
  "kernelspec": {
   "display_name": "Python 3",
   "language": "python",
   "name": "python3"
  },
  "language_info": {
   "codemirror_mode": {
    "name": "ipython",
    "version": 3
   },
   "file_extension": ".py",
   "mimetype": "text/x-python",
   "name": "python",
   "nbconvert_exporter": "python",
   "pygments_lexer": "ipython3",
   "version": "3.7.4"
  }
 },
 "nbformat": 4,
 "nbformat_minor": 5
}
